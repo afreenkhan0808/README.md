{
  "metadata": {
    "kernelspec": {
      "name": "python",
      "display_name": "Python (Pyodide)",
      "language": "python"
    },
    "language_info": {
      "codemirror_mode": {
        "name": "python",
        "version": 3
      },
      "file_extension": ".py",
      "mimetype": "text/x-python",
      "name": "python",
      "nbconvert_exporter": "python",
      "pygments_lexer": "ipython3",
      "version": "3.8"
    }
  },
  "nbformat_minor": 4,
  "nbformat": 4,
  "cells": [
    {
      "cell_type": "raw",
      "source": "Exercise 2: Create markdown cell with title of the notebook\n\nCreate a markdown cell with the title Data Science Tools and Ecosystem using H1 style heading.\nTake a screenshot of the markdown cell and name it as 2-title.png (Images can be saved with either the .jpg or .png extension.)",
      "metadata": {}
    },
    {
      "cell_type": "markdown",
      "source": "# Data Science Tools and Ecosystem\n",
      "metadata": {}
    },
    {
      "cell_type": "raw",
      "source": "Exercise 3 - Create a markdown cell for an introduction\n\nWrite an introductory sentence about the notebook such as the follows:\n\nIn this notebook, Data Science Tools and Ecosystem are summarized.\nTake a screenshot of the markdown cell and name it as 3-intro.png (Images can be saved with either the .jpg or .png extension.)\n",
      "metadata": {}
    },
    {
      "cell_type": "markdown",
      "source": "In this notebook, Data Science Tools and Ecosystem are summarized.",
      "metadata": {}
    },
    {
      "cell_type": "raw",
      "source": "Exercise 4 - Create a markdown cell to list data science languages\n\nStart the cell with an overview line such as:\n\nSome of the popular languages that Data Scientists use are:\nThen create an ordered list (i.e. numbered) listing 3 (or more) commonly used languages for data science.\nTake a screenshot of the markdown cell and name it as 4-dslanguages.png (Images can be saved with either the .jpg or .png extension.)",
      "metadata": {}
    },
    {
      "cell_type": "markdown",
      "source": " Some of the popular languages that Data Scientists use are:\n\n1. Python\n2. R\n3. SQL\n",
      "metadata": {}
    },
    {
      "cell_type": "raw",
      "source": "Exercise 5 - Create a markdown cell to list data science libraries\n\nAdd an overview line to the cell like:\n\nSome of the commonly used libraries used by Data Scientists include:\nBelow this line add an ordered list listing 3 (or more) commonly used libraries in data science.\nTake a screenshot of the markdown cell and name it as 5-dslibraries.png (Images can be saved with either the .jpg or .png extension.)",
      "metadata": {}
    },
    {
      "cell_type": "markdown",
      "source": "Some of the commonly used libraries used by Data Scientists include:\n\n1. NumPy\n2. Pandas\n3. Scikit-learn\n4. TensorFlow\n5. Keras\n",
      "metadata": {}
    },
    {
      "cell_type": "raw",
      "source": "Exercise 6 - Create a markdown cell with a table of Data Science tools\n\nCreate a single column table in this cell with the first row containing the header Data Science Tools. The subsequent three rows in the table should indicate three development environment open source tools used in data science.\n\nTake a screenshot of the markdown cell and name it as 6-dstools.png (Images can be saved with either the .jpg or .png extension.)\nHint: Refer to Lab: Using Markdowns in Jupyter Notebooks to create a table.",
      "metadata": {}
    },
    {
      "cell_type": "markdown",
      "source": "| Data Science Tools |\n|--------------------|\n| Jupyter Notebook   |\n| RStudio            |\n| Apache Zeppelin    | ",
      "metadata": {}
    },
    {
      "cell_type": "raw",
      "source": "Exercise 7 - Create a markdown cell introducing arithmetic expression examples\n\nAdd a line in this cell with H3 style heading with text like:\n\nBelow are a few examples of evaluating arithmetic expressions in Python.\nTake a screenshot of the markdown cell and name it as 7-introarithmetic.png (Images can be saved with either the .jpg or .png extension.)",
      "metadata": {}
    },
    {
      "cell_type": "markdown",
      "source": "### Below are a few examples of evaluating arithmetic expressions in Python.\n",
      "metadata": {}
    },
    {
      "cell_type": "raw",
      "source": "Exercise 8 - Create a code cell to multiply and add numbers\n\nIn this code cell evaluate the expression (3*4)+5.\nInsert a comment line before the expression to explain the operation e.g.  This a simple arithmetic expression to mutiply then add integers.\nThen execute the cell to ensure the expression returns the expected output of 17.\nTake a screenshot of the code cell with output and name it as 8-multiplyandaddintegers.png (Images can be saved with either the .jpg or .png extension.)",
      "metadata": {}
    },
    {
      "cell_type": "markdown",
      "source": "# This is a simple arithmetic expression to multiply then add integers.\nresult = (3 * 4) + 5\nresult\n",
      "metadata": {}
    },
    {
      "cell_type": "raw",
      "source": "Exercise 9 - Create a code cell to convert minutes to hours\n\nIn this code cell write an expression that converts 200 minutes into hours.\nInsert a comment line before the expression to explain the operation e.g.  This will convert 200 minutes to hours by diving by 60.\nRun the cell to evaluate the expression.\nTake a screenshot of the code cell with output and name it as 9-hourstominutes.png (Images can be saved with either the .jpg or .png extension.)\n",
      "metadata": {}
    },
    {
      "cell_type": "markdown",
      "source": "# This will convert 200 minutes to hours by dividing by 60.\nminutes = 200\nhours = minutes / 60\nhours\n",
      "metadata": {}
    },
    {
      "cell_type": "raw",
      "source": "Exercise 10 - Insert a markdown cell to list Objectives\n\nBelow the introduction cell created in Exercise 3, insert a new markdown cell to list the objectives that this notebook covered (i.e. some of the key takeaways from the course). In this new cell start with an introductory line titled: Objectives: in bold font. Then using an unordered list (bullets) indicate 3 to 5 items covered in this notebook, such as List popular languages for Data Science.\nTake a screenshot of the markdown cell and name it as 10-objectives.png (Images can be saved with either the .jpg or .png extension.)",
      "metadata": {}
    },
    {
      "cell_type": "markdown",
      "source": "**Objectives:**\n\n- List popular languages for Data Science.\n- Create a Markdown cell with a title.\n- Evaluate arithmetic expressions in Python.\n- Convert minutes to hours using a Python expression.\n- Create and interpret tables and lists in Markdown.\n",
      "metadata": {}
    },
    {
      "cell_type": "raw",
      "source": "Exercise 11 - Create a markdown cell to indicate the Author's name\n\nIn this markdown cell markdown cell include the following text Author in H2 style heading. Include your name as regular text below the word Author.\nTake a screenshot of the markdown cell and name it as 11-authordetails.png (Images can be saved with either the .jpg or .png extension.)",
      "metadata": {}
    },
    {
      "cell_type": "markdown",
      "source": "## Author\n\n[Afreen Khan]\n",
      "metadata": {}
    },
    {
      "cell_type": "code",
      "source": "",
      "metadata": {
        "trusted": true
      },
      "outputs": [],
      "execution_count": null
    }
  ]
}